{
 "cells": [
  {
   "cell_type": "markdown",
   "metadata": {},
   "source": [
    "Imports"
   ]
  },
  {
   "cell_type": "code",
   "execution_count": 50,
   "metadata": {},
   "outputs": [],
   "source": [
    "import nltk\n",
    "import pandas as pd\n",
    "import numpy as np\n",
    "import re"
   ]
  },
  {
   "cell_type": "markdown",
   "metadata": {},
   "source": [
    "Wczytanie zbioru uczącego oraz testującego"
   ]
  },
  {
   "cell_type": "code",
   "execution_count": 118,
   "metadata": {},
   "outputs": [],
   "source": [
    "training_set = pd.read_csv('train.csv')\n",
    "training_set2 = training_set[[\"Reviews\", \"Rating\"]].fillna(' ')\n",
    "reviews = training_set2[\"Reviews\"]\n",
    "rating = training_set[\"Rating\"]\n",
    "test_set = pd.read_csv('test.csv')\n",
    "test_set_rev = test_set[\"Reviews\"]"
   ]
  },
  {
   "cell_type": "markdown",
   "metadata": {},
   "source": [
    "Przeprowadzenie prostej tokenizacji oraz utworzenie macierzy częstości słów"
   ]
  },
  {
   "cell_type": "code",
   "execution_count": 119,
   "metadata": {},
   "outputs": [],
   "source": [
    "from sklearn.feature_extraction.text import CountVectorizer\n",
    "from nltk.tokenize import RegexpTokenizer\n",
    "token = RegexpTokenizer(r'[a-zA-Z0-9]+')\n",
    "cv = CountVectorizer(lowercase=True,stop_words='english',ngram_range = (1,2),tokenizer = token.tokenize)\n",
    "text_counts= cv.fit_transform(reviews)"
   ]
  },
  {
   "cell_type": "markdown",
   "metadata": {},
   "source": [
    "Podział zbioru na treningowy oraz testowy"
   ]
  },
  {
   "cell_type": "code",
   "execution_count": 61,
   "metadata": {},
   "outputs": [],
   "source": [
    "from sklearn.model_selection import train_test_split\n",
    "X_train, X_test, y_train, y_test = train_test_split(\n",
    "    text_counts, rating, test_size=0.3, random_state=1)"
   ]
  },
  {
   "cell_type": "markdown",
   "metadata": {},
   "source": [
    "Test wielomianowego naiwnego klasyfikatora Bayesa"
   ]
  },
  {
   "cell_type": "code",
   "execution_count": 5,
   "metadata": {},
   "outputs": [
    {
     "name": "stdout",
     "output_type": "stream",
     "text": [
      "[5 5 1 ... 5 5 5]\n",
      "MultinomialNB Accuracy: 0.7314513210278683\n",
      "RMSE:  1.0383683344933554\n"
     ]
    }
   ],
   "source": [
    "'''\n",
    "from sklearn.naive_bayes import MultinomialNB\n",
    "from sklearn import metrics\n",
    "from sklearn.metrics import mean_squared_error\n",
    "import math\n",
    "clf = MultinomialNB().fit(X_train, y_train)\n",
    "predicted= clf.predict(X_test)\n",
    "print(predicted)\n",
    "print(\"MultinomialNB Accuracy:\",metrics.accuracy_score(y_test, predicted))\n",
    "print(\"RMSE: \", math.sqrt(mean_squared_error(y_test, predicted)))\n",
    "'''"
   ]
  },
  {
   "cell_type": "markdown",
   "metadata": {},
   "source": [
    "Regresja logistyczna metodą Newtona"
   ]
  },
  {
   "cell_type": "code",
   "execution_count": 62,
   "metadata": {},
   "outputs": [
    {
     "data": {
      "text/plain": [
       "LogisticRegression(C=1.0, class_weight=None, dual=False, fit_intercept=True,\n",
       "          intercept_scaling=1, max_iter=100, multi_class='multinomial',\n",
       "          n_jobs=None, penalty='l2', random_state=23, solver='newton-cg',\n",
       "          tol=0.0001, verbose=0, warm_start=True)"
      ]
     },
     "execution_count": 62,
     "metadata": {},
     "output_type": "execute_result"
    }
   ],
   "source": [
    "from sklearn.linear_model import LogisticRegression\n",
    "logreg = LogisticRegression(warm_start = True, solver = 'newton-cg', multi_class='multinomial', random_state = 23)\n",
    "logreg.fit(X_train, y_train)"
   ]
  },
  {
   "cell_type": "markdown",
   "metadata": {},
   "source": [
    "Sprawdzenie trafności oraz RMSE dla powyższego modelu"
   ]
  },
  {
   "cell_type": "code",
   "execution_count": 63,
   "metadata": {},
   "outputs": [
    {
     "name": "stdout",
     "output_type": "stream",
     "text": [
      "[5 3 1 ... 5 4 5]\n",
      "Accuracy: 0.8850228671075576\n",
      "RMSE:  0.6185104636383383\n"
     ]
    }
   ],
   "source": [
    "import math\n",
    "from sklearn import metrics\n",
    "from sklearn.metrics import mean_squared_error\n",
    "lr_prediction = logreg.predict(X_test)\n",
    "print(lr_prediction)\n",
    "print(\"Accuracy:\",metrics.accuracy_score(y_test, lr_prediction))\n",
    "print(\"RMSE: \", math.sqrt(mean_squared_error(y_test, lr_prediction)))"
   ]
  },
  {
   "cell_type": "markdown",
   "metadata": {},
   "source": [
    "Ponownie regresja logistyczna metodą Newtona. Tym razem na pełnym dostarczonym zbiorze treningowym."
   ]
  },
  {
   "cell_type": "code",
   "execution_count": 120,
   "metadata": {},
   "outputs": [
    {
     "data": {
      "text/plain": [
       "LogisticRegression(C=1.0, class_weight=None, dual=False, fit_intercept=True,\n",
       "          intercept_scaling=1, max_iter=100, multi_class='multinomial',\n",
       "          n_jobs=None, penalty='l2', random_state=23, solver='newton-cg',\n",
       "          tol=0.0001, verbose=0, warm_start=False)"
      ]
     },
     "execution_count": 120,
     "metadata": {},
     "output_type": "execute_result"
    }
   ],
   "source": [
    "logreg = LogisticRegression(warm_start = False, solver = 'newton-cg', multi_class='multinomial', random_state = 23)\n",
    "logreg.fit(text_counts, rating)"
   ]
  },
  {
   "cell_type": "markdown",
   "metadata": {},
   "source": [
    "Próba dokonania predykcji przy pomocy powyższego modelu na dostarczonym zbiorze testowym"
   ]
  },
  {
   "cell_type": "code",
   "execution_count": 123,
   "metadata": {},
   "outputs": [
    {
     "name": "stdout",
     "output_type": "stream",
     "text": [
      "        0\n",
      "0       5\n",
      "1       5\n",
      "2       5\n",
      "3       5\n",
      "4       5\n",
      "5       5\n",
      "6       5\n",
      "7       5\n",
      "8       5\n",
      "9       5\n",
      "10      5\n",
      "11      5\n",
      "12      5\n",
      "13      5\n",
      "14      5\n",
      "15      5\n",
      "16      5\n",
      "17      5\n",
      "18      5\n",
      "19      5\n",
      "20      5\n",
      "21      5\n",
      "22      5\n",
      "23      5\n",
      "24      5\n",
      "25      5\n",
      "26      5\n",
      "27      5\n",
      "28      5\n",
      "29      5\n",
      "...    ..\n",
      "211165  4\n",
      "211166  5\n",
      "211167  5\n",
      "211168  2\n",
      "211169  5\n",
      "211170  5\n",
      "211171  5\n",
      "211172  1\n",
      "211173  5\n",
      "211174  5\n",
      "211175  1\n",
      "211176  4\n",
      "211177  5\n",
      "211178  5\n",
      "211179  5\n",
      "211180  5\n",
      "211181  5\n",
      "211182  4\n",
      "211183  1\n",
      "211184  3\n",
      "211185  5\n",
      "211186  1\n",
      "211187  5\n",
      "211188  5\n",
      "211189  1\n",
      "211190  5\n",
      "211191  5\n",
      "211192  5\n",
      "211193  1\n",
      "211194  5\n",
      "\n",
      "[211195 rows x 1 columns]\n"
     ]
    }
   ],
   "source": [
    "test_set_counts = cv.transform(test_set_rev.fillna(' '))\n",
    "sub = logreg.predict(test_set_counts)\n",
    "df_sub = pd.DataFrame(sub)\n",
    "print(df_sub)\n",
    "df_sub.to_csv('my_sub.csv', index=True, header = false)"
   ]
  }
 ],
 "metadata": {
  "kernelspec": {
   "display_name": "Python 3",
   "language": "python",
   "name": "python3"
  },
  "language_info": {
   "codemirror_mode": {
    "name": "ipython",
    "version": 3
   },
   "file_extension": ".py",
   "mimetype": "text/x-python",
   "name": "python",
   "nbconvert_exporter": "python",
   "pygments_lexer": "ipython3",
   "version": "3.7.2"
  }
 },
 "nbformat": 4,
 "nbformat_minor": 2
}
